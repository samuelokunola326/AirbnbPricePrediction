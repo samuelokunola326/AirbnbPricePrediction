{
 "cells": [
  {
   "cell_type": "code",
   "execution_count": 2,
   "metadata": {},
   "outputs": [
    {
     "name": "stdout",
     "output_type": "stream",
     "text": [
      "Collecting xgboost\n",
      "  Using cached xgboost-1.3.3-py3-none-win_amd64.whl (95.2 MB)\n",
      "Requirement already satisfied: numpy in c:\\users\\meish\\miniconda3\\envs\\pythonadv\\lib\\site-packages (from xgboost) (1.19.2)\n",
      "Requirement already satisfied: scipy in c:\\users\\meish\\miniconda3\\envs\\pythonadv\\lib\\site-packages (from xgboost) (1.5.2)\n",
      "Installing collected packages: xgboost\n",
      "Successfully installed xgboost-1.3.3\n",
      "Note: you may need to restart the kernel to use updated packages.\n"
     ]
    }
   ],
   "source": [
    "pip install xgboost"
   ]
  },
  {
   "cell_type": "code",
   "execution_count": 3,
   "metadata": {},
   "outputs": [
    {
     "name": "stdout",
     "output_type": "stream",
     "text": [
      "Collecting graphvizNote: you may need to restart the kernel to use updated packages.\n",
      "\n",
      "  Downloading graphviz-0.16-py2.py3-none-any.whl (19 kB)\n",
      "Installing collected packages: graphviz\n",
      "Successfully installed graphviz-0.16\n"
     ]
    }
   ],
   "source": [
    "pip install graphviz"
   ]
  },
  {
   "cell_type": "code",
   "execution_count": 5,
   "metadata": {},
   "outputs": [
    {
     "name": "stdout",
     "output_type": "stream",
     "text": [
      "Collecting seaborn\n",
      "  Using cached seaborn-0.11.1-py3-none-any.whl (285 kB)\n",
      "Requirement already satisfied: scipy>=1.0 in c:\\users\\meish\\miniconda3\\envs\\pythonadv\\lib\\site-packages (from seaborn) (1.5.2)\n",
      "Requirement already satisfied: matplotlib>=2.2 in c:\\users\\meish\\miniconda3\\envs\\pythonadv\\lib\\site-packages (from seaborn) (3.3.2)\n",
      "Requirement already satisfied: pandas>=0.23 in c:\\users\\meish\\miniconda3\\envs\\pythonadv\\lib\\site-packages (from seaborn) (1.1.5)\n",
      "Requirement already satisfied: numpy>=1.15 in c:\\users\\meish\\miniconda3\\envs\\pythonadv\\lib\\site-packages (from seaborn) (1.19.2)\n",
      "Requirement already satisfied: pillow>=6.2.0 in c:\\users\\meish\\miniconda3\\envs\\pythonadv\\lib\\site-packages (from matplotlib>=2.2->seaborn) (8.1.0)\n",
      "Requirement already satisfied: certifi>=2020.06.20 in c:\\users\\meish\\miniconda3\\envs\\pythonadv\\lib\\site-packages (from matplotlib>=2.2->seaborn) (2020.12.5)\n",
      "Requirement already satisfied: pyparsing!=2.0.4,!=2.1.2,!=2.1.6,>=2.0.3 in c:\\users\\meish\\miniconda3\\envs\\pythonadv\\lib\\site-packages (from matplotlib>=2.2->seaborn) (2.4.7)\n",
      "Requirement already satisfied: kiwisolver>=1.0.1 in c:\\users\\meish\\miniconda3\\envs\\pythonadv\\lib\\site-packages (from matplotlib>=2.2->seaborn) (1.3.0)\n",
      "Requirement already satisfied: cycler>=0.10 in c:\\users\\meish\\miniconda3\\envs\\pythonadv\\lib\\site-packages (from matplotlib>=2.2->seaborn) (0.10.0)\n",
      "Requirement already satisfied: python-dateutil>=2.1 in c:\\users\\meish\\miniconda3\\envs\\pythonadv\\lib\\site-packages (from matplotlib>=2.2->seaborn) (2.8.1)\n",
      "Requirement already satisfied: six in c:\\users\\meish\\miniconda3\\envs\\pythonadv\\lib\\site-packages (from cycler>=0.10->matplotlib>=2.2->seaborn) (1.15.0)\n",
      "Requirement already satisfied: pytz>=2017.2 in c:\\users\\meish\\miniconda3\\envs\\pythonadv\\lib\\site-packages (from pandas>=0.23->seaborn) (2020.5)\n",
      "Installing collected packages: seaborn\n",
      "Successfully installed seaborn-0.11.1\n",
      "Note: you may need to restart the kernel to use updated packages.\n"
     ]
    }
   ],
   "source": [
    "pip install seaborn"
   ]
  },
  {
   "cell_type": "code",
   "execution_count": 6,
   "metadata": {},
   "outputs": [],
   "source": [
    "#import modules and necessary dependencies\n",
    "import xgboost as xgb\n",
    "import matplotlib.pyplot as plt\n",
    "from sklearn.neighbors import KNeighborsClassifier\n",
    "import pandas as pd\n",
    "import numpy as np\n",
    "import os\n",
    "import seaborn as sns\n",
    "from sklearn.model_selection import train_test_split\n",
    "from sklearn.metrics import mean_squared_error\n"
   ]
  },
  {
   "cell_type": "code",
   "execution_count": 7,
   "metadata": {},
   "outputs": [
    {
     "data": {
      "text/html": [
       "<div>\n",
       "<style scoped>\n",
       "    .dataframe tbody tr th:only-of-type {\n",
       "        vertical-align: middle;\n",
       "    }\n",
       "\n",
       "    .dataframe tbody tr th {\n",
       "        vertical-align: top;\n",
       "    }\n",
       "\n",
       "    .dataframe thead th {\n",
       "        text-align: right;\n",
       "    }\n",
       "</style>\n",
       "<table border=\"1\" class=\"dataframe\">\n",
       "  <thead>\n",
       "    <tr style=\"text-align: right;\">\n",
       "      <th></th>\n",
       "      <th>id</th>\n",
       "      <th>name</th>\n",
       "      <th>host_id</th>\n",
       "      <th>host_name</th>\n",
       "      <th>neighbourhood_group</th>\n",
       "      <th>neighbourhood</th>\n",
       "      <th>latitude</th>\n",
       "      <th>longitude</th>\n",
       "      <th>room_type</th>\n",
       "      <th>price</th>\n",
       "      <th>minimum_nights</th>\n",
       "      <th>number_of_reviews</th>\n",
       "      <th>last_review</th>\n",
       "      <th>reviews_per_month</th>\n",
       "      <th>calculated_host_listings_count</th>\n",
       "      <th>availability_365</th>\n",
       "    </tr>\n",
       "  </thead>\n",
       "  <tbody>\n",
       "    <tr>\n",
       "      <th>0</th>\n",
       "      <td>2539</td>\n",
       "      <td>Clean &amp; quiet apt home by the park</td>\n",
       "      <td>2787</td>\n",
       "      <td>John</td>\n",
       "      <td>Brooklyn</td>\n",
       "      <td>Kensington</td>\n",
       "      <td>40.64749</td>\n",
       "      <td>-73.97237</td>\n",
       "      <td>Private room</td>\n",
       "      <td>149</td>\n",
       "      <td>1</td>\n",
       "      <td>9</td>\n",
       "      <td>2018-10-19</td>\n",
       "      <td>0.21</td>\n",
       "      <td>6</td>\n",
       "      <td>365</td>\n",
       "    </tr>\n",
       "    <tr>\n",
       "      <th>1</th>\n",
       "      <td>2595</td>\n",
       "      <td>Skylit Midtown Castle</td>\n",
       "      <td>2845</td>\n",
       "      <td>Jennifer</td>\n",
       "      <td>Manhattan</td>\n",
       "      <td>Midtown</td>\n",
       "      <td>40.75362</td>\n",
       "      <td>-73.98377</td>\n",
       "      <td>Entire home/apt</td>\n",
       "      <td>225</td>\n",
       "      <td>1</td>\n",
       "      <td>45</td>\n",
       "      <td>2019-05-21</td>\n",
       "      <td>0.38</td>\n",
       "      <td>2</td>\n",
       "      <td>355</td>\n",
       "    </tr>\n",
       "    <tr>\n",
       "      <th>2</th>\n",
       "      <td>3647</td>\n",
       "      <td>THE VILLAGE OF HARLEM....NEW YORK !</td>\n",
       "      <td>4632</td>\n",
       "      <td>Elisabeth</td>\n",
       "      <td>Manhattan</td>\n",
       "      <td>Harlem</td>\n",
       "      <td>40.80902</td>\n",
       "      <td>-73.94190</td>\n",
       "      <td>Private room</td>\n",
       "      <td>150</td>\n",
       "      <td>3</td>\n",
       "      <td>0</td>\n",
       "      <td>NaN</td>\n",
       "      <td>NaN</td>\n",
       "      <td>1</td>\n",
       "      <td>365</td>\n",
       "    </tr>\n",
       "    <tr>\n",
       "      <th>3</th>\n",
       "      <td>3831</td>\n",
       "      <td>Cozy Entire Floor of Brownstone</td>\n",
       "      <td>4869</td>\n",
       "      <td>LisaRoxanne</td>\n",
       "      <td>Brooklyn</td>\n",
       "      <td>Clinton Hill</td>\n",
       "      <td>40.68514</td>\n",
       "      <td>-73.95976</td>\n",
       "      <td>Entire home/apt</td>\n",
       "      <td>89</td>\n",
       "      <td>1</td>\n",
       "      <td>270</td>\n",
       "      <td>2019-07-05</td>\n",
       "      <td>4.64</td>\n",
       "      <td>1</td>\n",
       "      <td>194</td>\n",
       "    </tr>\n",
       "    <tr>\n",
       "      <th>4</th>\n",
       "      <td>5022</td>\n",
       "      <td>Entire Apt: Spacious Studio/Loft by central park</td>\n",
       "      <td>7192</td>\n",
       "      <td>Laura</td>\n",
       "      <td>Manhattan</td>\n",
       "      <td>East Harlem</td>\n",
       "      <td>40.79851</td>\n",
       "      <td>-73.94399</td>\n",
       "      <td>Entire home/apt</td>\n",
       "      <td>80</td>\n",
       "      <td>10</td>\n",
       "      <td>9</td>\n",
       "      <td>2018-11-19</td>\n",
       "      <td>0.10</td>\n",
       "      <td>1</td>\n",
       "      <td>0</td>\n",
       "    </tr>\n",
       "  </tbody>\n",
       "</table>\n",
       "</div>"
      ],
      "text/plain": [
       "     id                                              name  host_id  \\\n",
       "0  2539                Clean & quiet apt home by the park     2787   \n",
       "1  2595                             Skylit Midtown Castle     2845   \n",
       "2  3647               THE VILLAGE OF HARLEM....NEW YORK !     4632   \n",
       "3  3831                   Cozy Entire Floor of Brownstone     4869   \n",
       "4  5022  Entire Apt: Spacious Studio/Loft by central park     7192   \n",
       "\n",
       "     host_name neighbourhood_group neighbourhood  latitude  longitude  \\\n",
       "0         John            Brooklyn    Kensington  40.64749  -73.97237   \n",
       "1     Jennifer           Manhattan       Midtown  40.75362  -73.98377   \n",
       "2    Elisabeth           Manhattan        Harlem  40.80902  -73.94190   \n",
       "3  LisaRoxanne            Brooklyn  Clinton Hill  40.68514  -73.95976   \n",
       "4        Laura           Manhattan   East Harlem  40.79851  -73.94399   \n",
       "\n",
       "         room_type  price  minimum_nights  number_of_reviews last_review  \\\n",
       "0     Private room    149               1                  9  2018-10-19   \n",
       "1  Entire home/apt    225               1                 45  2019-05-21   \n",
       "2     Private room    150               3                  0         NaN   \n",
       "3  Entire home/apt     89               1                270  2019-07-05   \n",
       "4  Entire home/apt     80              10                  9  2018-11-19   \n",
       "\n",
       "   reviews_per_month  calculated_host_listings_count  availability_365  \n",
       "0               0.21                               6               365  \n",
       "1               0.38                               2               355  \n",
       "2                NaN                               1               365  \n",
       "3               4.64                               1               194  \n",
       "4               0.10                               1                 0  "
      ]
     },
     "execution_count": 7,
     "metadata": {},
     "output_type": "execute_result"
    }
   ],
   "source": [
    "#read the csv file\n",
    "df = pd.read_csv(os.path.join(\"AB_NYC_2019.csv\"))\n",
    "df.head()"
   ]
  },
  {
   "cell_type": "code",
   "execution_count": 8,
   "metadata": {},
   "outputs": [
    {
     "data": {
      "text/plain": [
       "(48895, 16)"
      ]
     },
     "execution_count": 8,
     "metadata": {},
     "output_type": "execute_result"
    }
   ],
   "source": [
    "#Check the size of the dataset\n",
    "df.shape"
   ]
  },
  {
   "cell_type": "code",
   "execution_count": 9,
   "metadata": {},
   "outputs": [
    {
     "data": {
      "text/plain": [
       "id                                  int64\n",
       "name                               object\n",
       "host_id                             int64\n",
       "host_name                          object\n",
       "neighbourhood_group                object\n",
       "neighbourhood                      object\n",
       "latitude                          float64\n",
       "longitude                         float64\n",
       "room_type                          object\n",
       "price                               int64\n",
       "minimum_nights                      int64\n",
       "number_of_reviews                   int64\n",
       "last_review                        object\n",
       "reviews_per_month                 float64\n",
       "calculated_host_listings_count      int64\n",
       "availability_365                    int64\n",
       "dtype: object"
      ]
     },
     "execution_count": 9,
     "metadata": {},
     "output_type": "execute_result"
    }
   ],
   "source": [
    "#Check data type\n",
    "df.dtypes"
   ]
  },
  {
   "cell_type": "code",
   "execution_count": 10,
   "metadata": {},
   "outputs": [
    {
     "data": {
      "text/plain": [
       "count    48895.000000\n",
       "mean       152.720687\n",
       "std        240.154170\n",
       "min          0.000000\n",
       "25%         69.000000\n",
       "50%        106.000000\n",
       "75%        175.000000\n",
       "max      10000.000000\n",
       "Name: price, dtype: float64"
      ]
     },
     "execution_count": 10,
     "metadata": {},
     "output_type": "execute_result"
    }
   ],
   "source": [
    "#analyze the test variable\n",
    "df[\"price\"].describe()"
   ]
  },
  {
   "cell_type": "code",
   "execution_count": 11,
   "metadata": {},
   "outputs": [
    {
     "data": {
      "image/png": "[encoded data removed]",
      "text/plain": [
       "<Figure size 432x288 with 1 Axes>"
      ]
     },
     "metadata": {
      "needs_background": "light"
     },
     "output_type": "display_data"
    }
   ],
   "source": [
    "#check the range of the price\n",
    "p1=sns.histplot(df[\"price\"])"
   ]
  },
  {
   "cell_type": "code",
   "execution_count": 12,
   "metadata": {},
   "outputs": [
    {
     "data": {
      "text/plain": [
       "(239, 16)"
      ]
     },
     "execution_count": 12,
     "metadata": {},
     "output_type": "execute_result"
    }
   ],
   "source": [
    "#check the size of prices above 1000\n",
    "df.loc[df[\"price\"]>1000].shape"
   ]
  },
  {
   "cell_type": "code",
   "execution_count": 13,
   "metadata": {},
   "outputs": [],
   "source": [
    "#drop the rows with price above 1000\n",
    "df=df[~(df[\"price\"]>1000)]"
   ]
  },
  {
   "cell_type": "code",
   "execution_count": 14,
   "metadata": {},
   "outputs": [
    {
     "data": {
      "image/png": "[encoded data removed]",
      "text/plain": [
       "<Figure size 432x288 with 1 Axes>"
      ]
     },
     "metadata": {
      "needs_background": "light"
     },
     "output_type": "display_data"
    }
   ],
   "source": [
    "#check for normal distribution\n",
    "p2=sns.histplot(df[\"price\"])"
   ]
  },
  {
   "cell_type": "code",
   "execution_count": 15,
   "metadata": {},
   "outputs": [
    {
     "data": {
      "text/plain": [
       "(48656, 16)"
      ]
     },
     "execution_count": 15,
     "metadata": {},
     "output_type": "execute_result"
    }
   ],
   "source": [
    "#final size of the dataset\n",
    "df.shape"
   ]
  },
  {
   "cell_type": "code",
   "execution_count": 16,
   "metadata": {},
   "outputs": [
    {
     "data": {
      "text/plain": [
       "count    48656.000000\n",
       "mean       141.279842\n",
       "std        116.737468\n",
       "min          0.000000\n",
       "25%         69.000000\n",
       "50%        105.000000\n",
       "75%        175.000000\n",
       "max       1000.000000\n",
       "Name: price, dtype: float64"
      ]
     },
     "execution_count": 16,
     "metadata": {},
     "output_type": "execute_result"
    }
   ],
   "source": [
    "#get the summary statistics\n",
    "df[\"price\"].describe()"
   ]
  },
  {
   "cell_type": "code",
   "execution_count": 17,
   "metadata": {},
   "outputs": [],
   "source": [
    "#drop the columns that is not relevant\n",
    "df.drop([\"id\", \"name\", \"host_name\",\"host_id\",\"latitude\", \"longitude\",\"neighbourhood\",\"last_review\"], axis=1, inplace=True)"
   ]
  },
  {
   "cell_type": "code",
   "execution_count": 18,
   "metadata": {},
   "outputs": [
    {
     "name": "stdout",
     "output_type": "stream",
     "text": [
      "<class 'pandas.core.frame.DataFrame'>\n",
      "Int64Index: 48656 entries, 0 to 48894\n",
      "Data columns (total 8 columns):\n",
      " #   Column                          Non-Null Count  Dtype  \n",
      "---  ------                          --------------  -----  \n",
      " 0   neighbourhood_group             48656 non-null  object \n",
      " 1   room_type                       48656 non-null  object \n",
      " 2   price                           48656 non-null  int64  \n",
      " 3   minimum_nights                  48656 non-null  int64  \n",
      " 4   number_of_reviews               48656 non-null  int64  \n",
      " 5   reviews_per_month               38736 non-null  float64\n",
      " 6   calculated_host_listings_count  48656 non-null  int64  \n",
      " 7   availability_365                48656 non-null  int64  \n",
      "dtypes: float64(1), int64(5), object(2)\n",
      "memory usage: 3.3+ MB\n"
     ]
    }
   ],
   "source": [
    "#check for any missing data\n",
    "df.info()"
   ]
  },
  {
   "cell_type": "code",
   "execution_count": 19,
   "metadata": {},
   "outputs": [],
   "source": [
    "#fill in the missing values with appropriate data type\n",
    "\n",
    "df.fillna({\"reviews_per_month\":0}, inplace=True)"
   ]
  },
  {
   "cell_type": "code",
   "execution_count": 20,
   "metadata": {},
   "outputs": [
    {
     "name": "stdout",
     "output_type": "stream",
     "text": [
      "<class 'pandas.core.frame.DataFrame'>\n",
      "Int64Index: 48656 entries, 0 to 48894\n",
      "Data columns (total 8 columns):\n",
      " #   Column                          Non-Null Count  Dtype  \n",
      "---  ------                          --------------  -----  \n",
      " 0   neighbourhood_group             48656 non-null  object \n",
      " 1   room_type                       48656 non-null  object \n",
      " 2   price                           48656 non-null  int64  \n",
      " 3   minimum_nights                  48656 non-null  int64  \n",
      " 4   number_of_reviews               48656 non-null  int64  \n",
      " 5   reviews_per_month               48656 non-null  float64\n",
      " 6   calculated_host_listings_count  48656 non-null  int64  \n",
      " 7   availability_365                48656 non-null  int64  \n",
      "dtypes: float64(1), int64(5), object(2)\n",
      "memory usage: 3.3+ MB\n"
     ]
    }
   ],
   "source": [
    "df.info()"
   ]
  },
  {
   "cell_type": "code",
   "execution_count": 21,
   "metadata": {},
   "outputs": [
    {
     "data": {
      "image/png": "[encoded data removed]",
      "text/plain": [
       "<Figure size 864x648 with 2 Axes>"
      ]
     },
     "metadata": {
      "needs_background": "light"
     },
     "output_type": "display_data"
    }
   ],
   "source": [
    "#correlation between the target and the features\n",
    "df2=pd.get_dummies(df)\n",
    "\n",
    "corr = df2.corr()\n",
    "f, ax = plt.subplots(figsize=(12,9))\n",
    ",\n",
    "sns.heatmap(corr, cbar=True, annot=True, square=True, fmt='.2f', yticklabels=corr.columns, xticklabels=corr.columns)\n",
    "plt.show()"
   ]
  },
  {
   "cell_type": "code",
   "execution_count": 22,
   "metadata": {},
   "outputs": [],
   "source": [
    "#get the features and the target\n",
    "X=df[[\"reviews_per_month\",\"neighbourhood_group\",\"room_type\",\"availability_365\"]]"
   ]
  },
  {
   "cell_type": "code",
   "execution_count": 23,
   "metadata": {},
   "outputs": [],
   "source": [
    "#convert strings into numbers and assign price as the target\n",
    "X= pd.get_dummies(X)\n",
    "y=df[\"price\"]"
   ]
  },
  {
   "cell_type": "code",
   "execution_count": 24,
   "metadata": {},
   "outputs": [
    {
     "name": "stdout",
     "output_type": "stream",
     "text": [
      "(48656, 10)\n",
      "(48656,)\n"
     ]
    }
   ],
   "source": [
    "#check the size \n",
    "print(X.shape)\n",
    "print(y.shape)"
   ]
  },
  {
   "cell_type": "code",
   "execution_count": 25,
   "metadata": {},
   "outputs": [],
   "source": [
    "#split the dataset into  80% training and 20% testing\n",
    "X_train, X_test, y_train, y_test = train_test_split(X, y,test_size=0.2, random_state=42)"
   ]
  },
  {
   "cell_type": "code",
   "execution_count": 26,
   "metadata": {},
   "outputs": [
    {
     "data": {
      "text/plain": [
       "<AxesSubplot:ylabel='Count'>"
      ]
     },
     "execution_count": 26,
     "metadata": {},
     "output_type": "execute_result"
    },
    {
     "data": {
      "image/png": "[encoded data removed]",
      "text/plain": [
       "<Figure size 432x288 with 1 Axes>"
      ]
     },
     "metadata": {
      "needs_background": "light"
     },
     "output_type": "display_data"
    }
   ],
   "source": [
    "sns.histplot(pd.DataFrame(y_train))"
   ]
  },
  {
   "cell_type": "code",
   "execution_count": 27,
   "metadata": {},
   "outputs": [
    {
     "data": {
      "text/plain": [
       "<AxesSubplot:ylabel='Count'>"
      ]
     },
     "execution_count": 27,
     "metadata": {},
     "output_type": "execute_result"
    },
    {
     "data": {
      "image/png": "[encoded data removed]",
      "text/plain": [
       "<Figure size 432x288 with 1 Axes>"
      ]
     },
     "metadata": {
      "needs_background": "light"
     },
     "output_type": "display_data"
    }
   ],
   "source": [
    "sns.histplot(pd.DataFrame(y_test))"
   ]
  },
  {
   "cell_type": "code",
   "execution_count": 28,
   "metadata": {},
   "outputs": [],
   "source": [
    "#build dmatrices form the datasets\n",
    "dtrain = xgb.DMatrix(X_train, label=y_train)\n",
    "dtest = xgb.DMatrix(X_test, label=y_test)"
   ]
  },
  {
   "cell_type": "code",
   "execution_count": 29,
   "metadata": {},
   "outputs": [
    {
     "name": "stdout",
     "output_type": "stream",
     "text": [
      "Baseline RMSE: 119.176793\n"
     ]
    }
   ],
   "source": [
    "# \"Learn\" the mean from the training data\n",
    "mean_train = np.mean(y_train)\n",
    "# Get predictions on the test set\n",
    "baseline_predictions = np.ones(y_test.shape) * mean_train\n",
    "# Compute MAE\n",
    "\n",
    "rmse = np.sqrt(mean_squared_error(y_test, baseline_predictions))\n",
    "print(\"Baseline RMSE: %f\" % (rmse))"
   ]
  },
  {
   "cell_type": "code",
   "execution_count": 30,
   "metadata": {},
   "outputs": [],
   "source": [
    "#set the paramaters with default values\n",
    "params = {\n",
    "    # Parameters that we are going to tune.\n",
    "    'max_depth':6,\n",
    "    'min_child_weight':1,\n",
    "    'eta':.1,\n",
    "    'subsample': 0.1,\n",
    "    'colsample_bytree': 1,\n",
    "    # Other parameters\n",
    "    'objective':'reg:squarederror'    \n",
    "}"
   ]
  },
  {
   "cell_type": "code",
   "execution_count": 31,
   "metadata": {},
   "outputs": [],
   "source": [
    "#add the evaluation metric root mean squared error\n",
    "params['eval_metric'] = \"rmse\""
   ]
  },
  {
   "cell_type": "code",
   "execution_count": 32,
   "metadata": {},
   "outputs": [],
   "source": [
    "#set the max boosting rounds\n",
    "num_boost_round = 100"
   ]
  },
  {
   "cell_type": "code",
   "execution_count": 33,
   "metadata": {},
   "outputs": [
    {
     "name": "stdout",
     "output_type": "stream",
     "text": [
      "[0]\tTest-rmse:172.48932\n",
      "[1]\tTest-rmse:161.31340\n",
      "[2]\tTest-rmse:151.75235\n",
      "[3]\tTest-rmse:143.43509\n",
      "[4]\tTest-rmse:136.30780\n",
      "[5]\tTest-rmse:130.01327\n",
      "[6]\tTest-rmse:124.66099\n",
      "[7]\tTest-rmse:120.23380\n",
      "[8]\tTest-rmse:116.35373\n",
      "[9]\tTest-rmse:113.15453\n",
      "[10]\tTest-rmse:110.35660\n",
      "[11]\tTest-rmse:108.09039\n",
      "[12]\tTest-rmse:106.09675\n",
      "[13]\tTest-rmse:104.60892\n",
      "[14]\tTest-rmse:103.41572\n",
      "[15]\tTest-rmse:102.40702\n",
      "[16]\tTest-rmse:101.46967\n",
      "[17]\tTest-rmse:100.73201\n",
      "[18]\tTest-rmse:100.11056\n",
      "[19]\tTest-rmse:99.61601\n",
      "[20]\tTest-rmse:99.16245\n",
      "[21]\tTest-rmse:98.84645\n",
      "[22]\tTest-rmse:98.61339\n",
      "[23]\tTest-rmse:98.31979\n",
      "[24]\tTest-rmse:98.20873\n",
      "[25]\tTest-rmse:98.01857\n",
      "[26]\tTest-rmse:97.87064\n",
      "[27]\tTest-rmse:97.69711\n",
      "[28]\tTest-rmse:97.62524\n",
      "[29]\tTest-rmse:97.60362\n",
      "[30]\tTest-rmse:97.52351\n",
      "[31]\tTest-rmse:97.47601\n",
      "[32]\tTest-rmse:97.46495\n",
      "[33]\tTest-rmse:97.44997\n",
      "[34]\tTest-rmse:97.37045\n",
      "[35]\tTest-rmse:97.31905\n",
      "[36]\tTest-rmse:97.31741\n",
      "[37]\tTest-rmse:97.38242\n",
      "[38]\tTest-rmse:97.33105\n",
      "[39]\tTest-rmse:97.32591\n",
      "[40]\tTest-rmse:97.34395\n",
      "[41]\tTest-rmse:97.35603\n",
      "[42]\tTest-rmse:97.38289\n",
      "[43]\tTest-rmse:97.33793\n",
      "[44]\tTest-rmse:97.26180\n",
      "[45]\tTest-rmse:97.24286\n",
      "[46]\tTest-rmse:97.19960\n",
      "[47]\tTest-rmse:97.19529\n",
      "[48]\tTest-rmse:97.13954\n",
      "[49]\tTest-rmse:97.25280\n",
      "[50]\tTest-rmse:97.27037\n",
      "[51]\tTest-rmse:97.24583\n",
      "[52]\tTest-rmse:97.24030\n",
      "[53]\tTest-rmse:97.17651\n",
      "[54]\tTest-rmse:97.22849\n",
      "[55]\tTest-rmse:97.19152\n",
      "[56]\tTest-rmse:97.18467\n",
      "[57]\tTest-rmse:97.20631\n"
     ]
    }
   ],
   "source": [
    "#pass more parameters on top of the default parameters\n",
    "model = xgb.train(\n",
    "    params,\n",
    "    dtrain,\n",
    "    num_boost_round=num_boost_round,\n",
    "    evals=[(dtest, \"Test\")],\n",
    "    early_stopping_rounds=10\n",
    ")"
   ]
  },
  {
   "cell_type": "code",
   "execution_count": 34,
   "metadata": {
    "scrolled": true
   },
   "outputs": [
    {
     "name": "stdout",
     "output_type": "stream",
     "text": [
      "Best RMSE: 97.14 with 49 rounds\n"
     ]
    }
   ],
   "source": [
    "# get the best RMSE\n",
    "print(\"Best RMSE: {:.2f} with {} rounds\".format(\n",
    "                 model.best_score,\n",
    "                 model.best_iteration+1))"
   ]
  },
  {
   "cell_type": "code",
   "execution_count": 35,
   "metadata": {},
   "outputs": [
    {
     "data": {
      "text/html": [
       "<div>\n",
       "<style scoped>\n",
       "    .dataframe tbody tr th:only-of-type {\n",
       "        vertical-align: middle;\n",
       "    }\n",
       "\n",
       "    .dataframe tbody tr th {\n",
       "        vertical-align: top;\n",
       "    }\n",
       "\n",
       "    .dataframe thead th {\n",
       "        text-align: right;\n",
       "    }\n",
       "</style>\n",
       "<table border=\"1\" class=\"dataframe\">\n",
       "  <thead>\n",
       "    <tr style=\"text-align: right;\">\n",
       "      <th></th>\n",
       "      <th>train-rmse-mean</th>\n",
       "      <th>train-rmse-std</th>\n",
       "      <th>test-rmse-mean</th>\n",
       "      <th>test-rmse-std</th>\n",
       "    </tr>\n",
       "  </thead>\n",
       "  <tbody>\n",
       "    <tr>\n",
       "      <th>0</th>\n",
       "      <td>169.502543</td>\n",
       "      <td>0.645983</td>\n",
       "      <td>169.562973</td>\n",
       "      <td>0.802797</td>\n",
       "    </tr>\n",
       "    <tr>\n",
       "      <th>1</th>\n",
       "      <td>158.348348</td>\n",
       "      <td>0.549134</td>\n",
       "      <td>158.449997</td>\n",
       "      <td>0.787535</td>\n",
       "    </tr>\n",
       "    <tr>\n",
       "      <th>2</th>\n",
       "      <td>148.759399</td>\n",
       "      <td>0.629480</td>\n",
       "      <td>148.990433</td>\n",
       "      <td>0.750107</td>\n",
       "    </tr>\n",
       "    <tr>\n",
       "      <th>3</th>\n",
       "      <td>140.360459</td>\n",
       "      <td>0.480242</td>\n",
       "      <td>140.692861</td>\n",
       "      <td>0.912381</td>\n",
       "    </tr>\n",
       "    <tr>\n",
       "      <th>4</th>\n",
       "      <td>133.009822</td>\n",
       "      <td>0.463388</td>\n",
       "      <td>133.400569</td>\n",
       "      <td>1.000103</td>\n",
       "    </tr>\n",
       "    <tr>\n",
       "      <th>5</th>\n",
       "      <td>126.655813</td>\n",
       "      <td>0.516462</td>\n",
       "      <td>127.189308</td>\n",
       "      <td>0.990451</td>\n",
       "    </tr>\n",
       "    <tr>\n",
       "      <th>6</th>\n",
       "      <td>121.408824</td>\n",
       "      <td>0.450558</td>\n",
       "      <td>122.045855</td>\n",
       "      <td>1.043342</td>\n",
       "    </tr>\n",
       "    <tr>\n",
       "      <th>7</th>\n",
       "      <td>116.950063</td>\n",
       "      <td>0.546843</td>\n",
       "      <td>117.686953</td>\n",
       "      <td>1.076603</td>\n",
       "    </tr>\n",
       "    <tr>\n",
       "      <th>8</th>\n",
       "      <td>113.176183</td>\n",
       "      <td>0.617653</td>\n",
       "      <td>114.008685</td>\n",
       "      <td>1.092922</td>\n",
       "    </tr>\n",
       "    <tr>\n",
       "      <th>9</th>\n",
       "      <td>109.932063</td>\n",
       "      <td>0.671682</td>\n",
       "      <td>110.880666</td>\n",
       "      <td>1.065767</td>\n",
       "    </tr>\n",
       "    <tr>\n",
       "      <th>10</th>\n",
       "      <td>107.213328</td>\n",
       "      <td>0.658055</td>\n",
       "      <td>108.256439</td>\n",
       "      <td>1.041995</td>\n",
       "    </tr>\n",
       "    <tr>\n",
       "      <th>11</th>\n",
       "      <td>105.061696</td>\n",
       "      <td>0.694543</td>\n",
       "      <td>106.156428</td>\n",
       "      <td>0.988023</td>\n",
       "    </tr>\n",
       "    <tr>\n",
       "      <th>12</th>\n",
       "      <td>103.171069</td>\n",
       "      <td>0.611598</td>\n",
       "      <td>104.327654</td>\n",
       "      <td>1.104257</td>\n",
       "    </tr>\n",
       "    <tr>\n",
       "      <th>13</th>\n",
       "      <td>101.612455</td>\n",
       "      <td>0.615962</td>\n",
       "      <td>102.848836</td>\n",
       "      <td>1.065781</td>\n",
       "    </tr>\n",
       "    <tr>\n",
       "      <th>14</th>\n",
       "      <td>100.300924</td>\n",
       "      <td>0.571638</td>\n",
       "      <td>101.650111</td>\n",
       "      <td>1.106340</td>\n",
       "    </tr>\n",
       "    <tr>\n",
       "      <th>15</th>\n",
       "      <td>99.247091</td>\n",
       "      <td>0.620544</td>\n",
       "      <td>100.649501</td>\n",
       "      <td>1.024760</td>\n",
       "    </tr>\n",
       "    <tr>\n",
       "      <th>16</th>\n",
       "      <td>98.362686</td>\n",
       "      <td>0.592851</td>\n",
       "      <td>99.852819</td>\n",
       "      <td>1.012010</td>\n",
       "    </tr>\n",
       "    <tr>\n",
       "      <th>17</th>\n",
       "      <td>97.560173</td>\n",
       "      <td>0.593981</td>\n",
       "      <td>99.126660</td>\n",
       "      <td>1.047725</td>\n",
       "    </tr>\n",
       "    <tr>\n",
       "      <th>18</th>\n",
       "      <td>96.943146</td>\n",
       "      <td>0.572770</td>\n",
       "      <td>98.616104</td>\n",
       "      <td>1.050331</td>\n",
       "    </tr>\n",
       "    <tr>\n",
       "      <th>19</th>\n",
       "      <td>96.453898</td>\n",
       "      <td>0.551249</td>\n",
       "      <td>98.189656</td>\n",
       "      <td>0.996573</td>\n",
       "    </tr>\n",
       "    <tr>\n",
       "      <th>20</th>\n",
       "      <td>96.063820</td>\n",
       "      <td>0.527829</td>\n",
       "      <td>97.874179</td>\n",
       "      <td>0.959156</td>\n",
       "    </tr>\n",
       "    <tr>\n",
       "      <th>21</th>\n",
       "      <td>95.714763</td>\n",
       "      <td>0.546444</td>\n",
       "      <td>97.642393</td>\n",
       "      <td>0.938043</td>\n",
       "    </tr>\n",
       "    <tr>\n",
       "      <th>22</th>\n",
       "      <td>95.452538</td>\n",
       "      <td>0.528593</td>\n",
       "      <td>97.451853</td>\n",
       "      <td>0.982336</td>\n",
       "    </tr>\n",
       "    <tr>\n",
       "      <th>23</th>\n",
       "      <td>95.251317</td>\n",
       "      <td>0.513359</td>\n",
       "      <td>97.322253</td>\n",
       "      <td>0.964928</td>\n",
       "    </tr>\n",
       "    <tr>\n",
       "      <th>24</th>\n",
       "      <td>95.092252</td>\n",
       "      <td>0.542394</td>\n",
       "      <td>97.200795</td>\n",
       "      <td>0.896354</td>\n",
       "    </tr>\n",
       "    <tr>\n",
       "      <th>25</th>\n",
       "      <td>94.883235</td>\n",
       "      <td>0.552133</td>\n",
       "      <td>97.062037</td>\n",
       "      <td>0.875725</td>\n",
       "    </tr>\n",
       "    <tr>\n",
       "      <th>26</th>\n",
       "      <td>94.736107</td>\n",
       "      <td>0.534339</td>\n",
       "      <td>96.958875</td>\n",
       "      <td>0.898936</td>\n",
       "    </tr>\n",
       "    <tr>\n",
       "      <th>27</th>\n",
       "      <td>94.555016</td>\n",
       "      <td>0.539205</td>\n",
       "      <td>96.919533</td>\n",
       "      <td>0.938527</td>\n",
       "    </tr>\n",
       "    <tr>\n",
       "      <th>28</th>\n",
       "      <td>94.442388</td>\n",
       "      <td>0.543109</td>\n",
       "      <td>96.834699</td>\n",
       "      <td>0.935429</td>\n",
       "    </tr>\n",
       "    <tr>\n",
       "      <th>29</th>\n",
       "      <td>94.376811</td>\n",
       "      <td>0.516558</td>\n",
       "      <td>96.819247</td>\n",
       "      <td>0.960478</td>\n",
       "    </tr>\n",
       "    <tr>\n",
       "      <th>30</th>\n",
       "      <td>94.247973</td>\n",
       "      <td>0.544252</td>\n",
       "      <td>96.737818</td>\n",
       "      <td>0.969707</td>\n",
       "    </tr>\n",
       "    <tr>\n",
       "      <th>31</th>\n",
       "      <td>94.117114</td>\n",
       "      <td>0.545745</td>\n",
       "      <td>96.639903</td>\n",
       "      <td>0.988292</td>\n",
       "    </tr>\n",
       "    <tr>\n",
       "      <th>32</th>\n",
       "      <td>94.029073</td>\n",
       "      <td>0.544849</td>\n",
       "      <td>96.634338</td>\n",
       "      <td>0.998777</td>\n",
       "    </tr>\n",
       "    <tr>\n",
       "      <th>33</th>\n",
       "      <td>93.920179</td>\n",
       "      <td>0.545464</td>\n",
       "      <td>96.639763</td>\n",
       "      <td>0.987091</td>\n",
       "    </tr>\n",
       "    <tr>\n",
       "      <th>34</th>\n",
       "      <td>93.836700</td>\n",
       "      <td>0.562588</td>\n",
       "      <td>96.609080</td>\n",
       "      <td>0.999398</td>\n",
       "    </tr>\n",
       "    <tr>\n",
       "      <th>35</th>\n",
       "      <td>93.780859</td>\n",
       "      <td>0.550631</td>\n",
       "      <td>96.607986</td>\n",
       "      <td>0.984684</td>\n",
       "    </tr>\n",
       "    <tr>\n",
       "      <th>36</th>\n",
       "      <td>93.731860</td>\n",
       "      <td>0.545156</td>\n",
       "      <td>96.599215</td>\n",
       "      <td>0.997663</td>\n",
       "    </tr>\n",
       "    <tr>\n",
       "      <th>37</th>\n",
       "      <td>93.649691</td>\n",
       "      <td>0.527446</td>\n",
       "      <td>96.575152</td>\n",
       "      <td>0.997983</td>\n",
       "    </tr>\n",
       "  </tbody>\n",
       "</table>\n",
       "</div>"
      ],
      "text/plain": [
       "    train-rmse-mean  train-rmse-std  test-rmse-mean  test-rmse-std\n",
       "0        169.502543        0.645983      169.562973       0.802797\n",
       "1        158.348348        0.549134      158.449997       0.787535\n",
       "2        148.759399        0.629480      148.990433       0.750107\n",
       "3        140.360459        0.480242      140.692861       0.912381\n",
       "4        133.009822        0.463388      133.400569       1.000103\n",
       "5        126.655813        0.516462      127.189308       0.990451\n",
       "6        121.408824        0.450558      122.045855       1.043342\n",
       "7        116.950063        0.546843      117.686953       1.076603\n",
       "8        113.176183        0.617653      114.008685       1.092922\n",
       "9        109.932063        0.671682      110.880666       1.065767\n",
       "10       107.213328        0.658055      108.256439       1.041995\n",
       "11       105.061696        0.694543      106.156428       0.988023\n",
       "12       103.171069        0.611598      104.327654       1.104257\n",
       "13       101.612455        0.615962      102.848836       1.065781\n",
       "14       100.300924        0.571638      101.650111       1.106340\n",
       "15        99.247091        0.620544      100.649501       1.024760\n",
       "16        98.362686        0.592851       99.852819       1.012010\n",
       "17        97.560173        0.593981       99.126660       1.047725\n",
       "18        96.943146        0.572770       98.616104       1.050331\n",
       "19        96.453898        0.551249       98.189656       0.996573\n",
       "20        96.063820        0.527829       97.874179       0.959156\n",
       "21        95.714763        0.546444       97.642393       0.938043\n",
       "22        95.452538        0.528593       97.451853       0.982336\n",
       "23        95.251317        0.513359       97.322253       0.964928\n",
       "24        95.092252        0.542394       97.200795       0.896354\n",
       "25        94.883235        0.552133       97.062037       0.875725\n",
       "26        94.736107        0.534339       96.958875       0.898936\n",
       "27        94.555016        0.539205       96.919533       0.938527\n",
       "28        94.442388        0.543109       96.834699       0.935429\n",
       "29        94.376811        0.516558       96.819247       0.960478\n",
       "30        94.247973        0.544252       96.737818       0.969707\n",
       "31        94.117114        0.545745       96.639903       0.988292\n",
       "32        94.029073        0.544849       96.634338       0.998777\n",
       "33        93.920179        0.545464       96.639763       0.987091\n",
       "34        93.836700        0.562588       96.609080       0.999398\n",
       "35        93.780859        0.550631       96.607986       0.984684\n",
       "36        93.731860        0.545156       96.599215       0.997663\n",
       "37        93.649691        0.527446       96.575152       0.997983"
      ]
     },
     "execution_count": 35,
     "metadata": {},
     "output_type": "execute_result"
    }
   ],
   "source": [
    "#run cross validation on the training data to get the rmse score\n",
    "cv_results = xgb.cv(\n",
    "    params,\n",
    "    dtrain,\n",
    "    num_boost_round=num_boost_round,\n",
    "    seed=42,\n",
    "    nfold=3,\n",
    "    metrics={'rmse'},\n",
    "    early_stopping_rounds=10\n",
    ")\n",
    "\n",
    "cv_results"
   ]
  },
  {
   "cell_type": "code",
   "execution_count": 36,
   "metadata": {},
   "outputs": [
    {
     "data": {
      "text/plain": [
       "96.575152"
      ]
     },
     "execution_count": 36,
     "metadata": {},
     "output_type": "execute_result"
    }
   ],
   "source": [
    "#get the min rmse score\n",
    "cv_results['test-rmse-mean'].min()"
   ]
  },
  {
   "cell_type": "code",
   "execution_count": 37,
   "metadata": {},
   "outputs": [],
   "source": [
    "#set the range of max_depth and min_child_weight\n",
    "gridsearch_params = [\n",
    "    (max_depth, min_child_weight)\n",
    "    for max_depth in range(2,15)\n",
    "    for min_child_weight in range(2,15)\n",
    "]"
   ]
  },
  {
   "cell_type": "code",
   "execution_count": 38,
   "metadata": {},
   "outputs": [
    {
     "name": "stdout",
     "output_type": "stream",
     "text": [
      "CV with max_depth=2, min_child_weight=2\n",
      "\tRMSE 96.59261599999998 for 95 rounds\n",
      "CV with max_depth=2, min_child_weight=3\n",
      "\tRMSE 96.58299 for 95 rounds\n",
      "CV with max_depth=2, min_child_weight=4\n",
      "\tRMSE 96.58329033333332 for 95 rounds\n",
      "CV with max_depth=2, min_child_weight=5\n",
      "\tRMSE 96.58323933333334 for 95 rounds\n",
      "CV with max_depth=2, min_child_weight=6\n",
      "\tRMSE 96.57098900000001 for 95 rounds\n",
      "CV with max_depth=2, min_child_weight=7\n",
      "\tRMSE 96.569758 for 95 rounds\n",
      "CV with max_depth=2, min_child_weight=8\n",
      "\tRMSE 96.57951066666668 for 95 rounds\n",
      "CV with max_depth=2, min_child_weight=9\n",
      "\tRMSE 96.59863566666667 for 95 rounds\n",
      "CV with max_depth=2, min_child_weight=10\n",
      "\tRMSE 96.59424833333333 for 95 rounds\n",
      "CV with max_depth=2, min_child_weight=11\n",
      "\tRMSE 96.59400166666667 for 95 rounds\n",
      "CV with max_depth=2, min_child_weight=12\n",
      "\tRMSE 96.590253 for 95 rounds\n",
      "CV with max_depth=2, min_child_weight=13\n",
      "\tRMSE 96.60256433333332 for 95 rounds\n",
      "CV with max_depth=2, min_child_weight=14\n",
      "\tRMSE 96.57839733333333 for 95 rounds\n",
      "CV with max_depth=3, min_child_weight=2\n",
      "\tRMSE 96.35979166666668 for 63 rounds\n",
      "CV with max_depth=3, min_child_weight=3\n",
      "\tRMSE 96.13714599999999 for 95 rounds\n",
      "CV with max_depth=3, min_child_weight=4\n",
      "\tRMSE 96.31185366666666 for 63 rounds\n",
      "CV with max_depth=3, min_child_weight=5\n",
      "\tRMSE 96.12862366666667 for 95 rounds\n",
      "CV with max_depth=3, min_child_weight=6\n",
      "\tRMSE 96.16666400000001 for 95 rounds\n",
      "CV with max_depth=3, min_child_weight=7\n",
      "\tRMSE 96.12820933333334 for 99 rounds\n",
      "CV with max_depth=3, min_child_weight=8\n",
      "\tRMSE 96.09302533333334 for 95 rounds\n",
      "CV with max_depth=3, min_child_weight=9\n",
      "\tRMSE 96.14238733333333 for 95 rounds\n",
      "CV with max_depth=3, min_child_weight=10\n",
      "\tRMSE 96.26752466666666 for 62 rounds\n",
      "CV with max_depth=3, min_child_weight=11\n",
      "\tRMSE 96.18922966666666 for 76 rounds\n",
      "CV with max_depth=3, min_child_weight=12\n",
      "\tRMSE 96.14245066666668 for 95 rounds\n",
      "CV with max_depth=3, min_child_weight=13\n",
      "\tRMSE 96.13193533333333 for 98 rounds\n",
      "CV with max_depth=3, min_child_weight=14\n",
      "\tRMSE 96.11880000000001 for 95 rounds\n",
      "CV with max_depth=4, min_child_weight=2\n",
      "\tRMSE 96.23357600000001 for 44 rounds\n",
      "CV with max_depth=4, min_child_weight=3\n",
      "\tRMSE 96.21757500000001 for 44 rounds\n",
      "CV with max_depth=4, min_child_weight=4\n",
      "\tRMSE 96.18078366666667 for 49 rounds\n",
      "CV with max_depth=4, min_child_weight=5\n",
      "\tRMSE 96.14524066666667 for 52 rounds\n",
      "CV with max_depth=4, min_child_weight=6\n",
      "\tRMSE 96.108007 for 49 rounds\n",
      "CV with max_depth=4, min_child_weight=7\n",
      "\tRMSE 96.08497866666666 for 50 rounds\n",
      "CV with max_depth=4, min_child_weight=8\n",
      "\tRMSE 96.14296966666666 for 44 rounds\n",
      "CV with max_depth=4, min_child_weight=9\n",
      "\tRMSE 96.09040066666667 for 52 rounds\n",
      "CV with max_depth=4, min_child_weight=10\n",
      "\tRMSE 96.12583633333333 for 52 rounds\n",
      "CV with max_depth=4, min_child_weight=11\n",
      "\tRMSE 96.09044133333333 for 47 rounds\n",
      "CV with max_depth=4, min_child_weight=12\n",
      "\tRMSE 96.07432533333333 for 46 rounds\n",
      "CV with max_depth=4, min_child_weight=13\n",
      "\tRMSE 96.01867166666666 for 62 rounds\n",
      "CV with max_depth=4, min_child_weight=14\n",
      "\tRMSE 95.992615 for 62 rounds\n",
      "CV with max_depth=5, min_child_weight=2\n",
      "\tRMSE 96.08664166666667 for 44 rounds\n",
      "CV with max_depth=5, min_child_weight=3\n",
      "\tRMSE 96.20963033333334 for 35 rounds\n",
      "CV with max_depth=5, min_child_weight=4\n",
      "\tRMSE 96.11691533333334 for 43 rounds\n",
      "CV with max_depth=5, min_child_weight=5\n",
      "\tRMSE 96.13659433333333 for 47 rounds\n",
      "CV with max_depth=5, min_child_weight=6\n",
      "\tRMSE 96.13441466666666 for 47 rounds\n",
      "CV with max_depth=5, min_child_weight=7\n",
      "\tRMSE 96.12795766666666 for 43 rounds\n",
      "CV with max_depth=5, min_child_weight=8\n",
      "\tRMSE 96.15354400000001 for 43 rounds\n",
      "CV with max_depth=5, min_child_weight=9\n",
      "\tRMSE 96.14070933333335 for 47 rounds\n",
      "CV with max_depth=5, min_child_weight=10\n",
      "\tRMSE 96.12814300000001 for 44 rounds\n",
      "CV with max_depth=5, min_child_weight=11\n",
      "\tRMSE 96.085327 for 43 rounds\n",
      "CV with max_depth=5, min_child_weight=12\n",
      "\tRMSE 96.08648433333333 for 47 rounds\n",
      "CV with max_depth=5, min_child_weight=13\n",
      "\tRMSE 96.12651800000002 for 44 rounds\n",
      "CV with max_depth=5, min_child_weight=14\n",
      "\tRMSE 96.05557466666666 for 47 rounds\n",
      "CV with max_depth=6, min_child_weight=2\n",
      "\tRMSE 96.43286633333332 for 37 rounds\n",
      "CV with max_depth=6, min_child_weight=3\n",
      "\tRMSE 96.34825133333334 for 39 rounds\n",
      "CV with max_depth=6, min_child_weight=4\n",
      "\tRMSE 96.422933 for 34 rounds\n",
      "CV with max_depth=6, min_child_weight=5\n",
      "\tRMSE 96.33970366666665 for 44 rounds\n",
      "CV with max_depth=6, min_child_weight=6\n",
      "\tRMSE 96.38066599999998 for 37 rounds\n",
      "CV with max_depth=6, min_child_weight=7\n",
      "\tRMSE 96.28393533333333 for 44 rounds\n",
      "CV with max_depth=6, min_child_weight=8\n",
      "\tRMSE 96.31732433333333 for 44 rounds\n",
      "CV with max_depth=6, min_child_weight=9\n",
      "\tRMSE 96.30874866666666 for 39 rounds\n",
      "CV with max_depth=6, min_child_weight=10\n",
      "\tRMSE 96.33667533333333 for 44 rounds\n",
      "CV with max_depth=6, min_child_weight=11\n",
      "\tRMSE 96.226443 for 44 rounds\n",
      "CV with max_depth=6, min_child_weight=12\n",
      "\tRMSE 96.25133266666667 for 44 rounds\n",
      "CV with max_depth=6, min_child_weight=13\n",
      "\tRMSE 96.203934 for 44 rounds\n",
      "CV with max_depth=6, min_child_weight=14\n",
      "\tRMSE 96.173706 for 50 rounds\n",
      "CV with max_depth=7, min_child_weight=2\n",
      "\tRMSE 96.68348666666668 for 35 rounds\n",
      "CV with max_depth=7, min_child_weight=3\n",
      "\tRMSE 96.581764 for 34 rounds\n",
      "CV with max_depth=7, min_child_weight=4\n",
      "\tRMSE 96.74465166666668 for 34 rounds\n",
      "CV with max_depth=7, min_child_weight=5\n",
      "\tRMSE 96.70402266666667 for 45 rounds\n",
      "CV with max_depth=7, min_child_weight=6\n",
      "\tRMSE 96.47024499999999 for 34 rounds\n",
      "CV with max_depth=7, min_child_weight=7\n",
      "\tRMSE 96.53659566666666 for 44 rounds\n",
      "CV with max_depth=7, min_child_weight=8\n",
      "\tRMSE 96.44157166666666 for 37 rounds\n",
      "CV with max_depth=7, min_child_weight=9\n",
      "\tRMSE 96.465866 for 37 rounds\n",
      "CV with max_depth=7, min_child_weight=10\n",
      "\tRMSE 96.39504 for 34 rounds\n",
      "CV with max_depth=7, min_child_weight=11\n",
      "\tRMSE 96.32301333333334 for 39 rounds\n",
      "CV with max_depth=7, min_child_weight=12\n",
      "\tRMSE 96.27870433333334 for 34 rounds\n",
      "CV with max_depth=7, min_child_weight=13\n",
      "\tRMSE 96.31312566666668 for 42 rounds\n",
      "CV with max_depth=7, min_child_weight=14\n",
      "\tRMSE 96.15331533333334 for 44 rounds\n",
      "CV with max_depth=8, min_child_weight=2\n",
      "\tRMSE 97.24915333333333 for 34 rounds\n",
      "CV with max_depth=8, min_child_weight=3\n",
      "\tRMSE 96.84580766666666 for 34 rounds\n",
      "CV with max_depth=8, min_child_weight=4\n",
      "\tRMSE 96.77760566666666 for 34 rounds\n",
      "CV with max_depth=8, min_child_weight=5\n",
      "\tRMSE 96.57884733333333 for 34 rounds\n",
      "CV with max_depth=8, min_child_weight=6\n",
      "\tRMSE 96.63013466666668 for 39 rounds\n",
      "CV with max_depth=8, min_child_weight=7\n",
      "\tRMSE 96.588992 for 34 rounds\n",
      "CV with max_depth=8, min_child_weight=8\n",
      "\tRMSE 96.509359 for 34 rounds\n",
      "CV with max_depth=8, min_child_weight=9\n",
      "\tRMSE 96.46784733333334 for 34 rounds\n",
      "CV with max_depth=8, min_child_weight=10\n",
      "\tRMSE 96.48241933333333 for 34 rounds\n",
      "CV with max_depth=8, min_child_weight=11\n",
      "\tRMSE 96.42970000000001 for 34 rounds\n",
      "CV with max_depth=8, min_child_weight=12\n",
      "\tRMSE 96.35865266666667 for 34 rounds\n",
      "CV with max_depth=8, min_child_weight=13\n",
      "\tRMSE 96.334849 for 34 rounds\n",
      "CV with max_depth=8, min_child_weight=14\n",
      "\tRMSE 96.32728833333333 for 44 rounds\n",
      "CV with max_depth=9, min_child_weight=2\n",
      "\tRMSE 97.41598766666665 for 31 rounds\n",
      "CV with max_depth=9, min_child_weight=3\n",
      "\tRMSE 97.09359266666667 for 36 rounds\n",
      "CV with max_depth=9, min_child_weight=4\n",
      "\tRMSE 96.96829500000001 for 34 rounds\n",
      "CV with max_depth=9, min_child_weight=5\n",
      "\tRMSE 97.009664 for 31 rounds\n",
      "CV with max_depth=9, min_child_weight=6\n",
      "\tRMSE 96.75244400000001 for 39 rounds\n",
      "CV with max_depth=9, min_child_weight=7\n",
      "\tRMSE 96.72040299999999 for 34 rounds\n",
      "CV with max_depth=9, min_child_weight=8\n",
      "\tRMSE 96.76264433333334 for 32 rounds\n",
      "CV with max_depth=9, min_child_weight=9\n",
      "\tRMSE 96.649404 for 39 rounds\n",
      "CV with max_depth=9, min_child_weight=10\n",
      "\tRMSE 96.56038633333333 for 35 rounds\n",
      "CV with max_depth=9, min_child_weight=11\n",
      "\tRMSE 96.432045 for 34 rounds\n",
      "CV with max_depth=9, min_child_weight=12\n",
      "\tRMSE 96.35302233333333 for 34 rounds\n",
      "CV with max_depth=9, min_child_weight=13\n",
      "\tRMSE 96.42197400000002 for 42 rounds\n",
      "CV with max_depth=9, min_child_weight=14\n",
      "\tRMSE 96.29527300000001 for 44 rounds\n",
      "CV with max_depth=10, min_child_weight=2\n",
      "\tRMSE 97.53284733333332 for 31 rounds\n",
      "CV with max_depth=10, min_child_weight=3\n",
      "\tRMSE 97.28349566666667 for 32 rounds\n",
      "CV with max_depth=10, min_child_weight=4\n"
     ]
    },
    {
     "name": "stdout",
     "output_type": "stream",
     "text": [
      "\tRMSE 97.10168933333334 for 34 rounds\n",
      "CV with max_depth=10, min_child_weight=5\n",
      "\tRMSE 97.112826 for 31 rounds\n",
      "CV with max_depth=10, min_child_weight=6\n",
      "\tRMSE 97.045929 for 34 rounds\n",
      "CV with max_depth=10, min_child_weight=7\n",
      "\tRMSE 96.83690633333333 for 34 rounds\n",
      "CV with max_depth=10, min_child_weight=8\n",
      "\tRMSE 96.79689533333334 for 34 rounds\n",
      "CV with max_depth=10, min_child_weight=9\n",
      "\tRMSE 96.70373266666667 for 34 rounds\n",
      "CV with max_depth=10, min_child_weight=10\n",
      "\tRMSE 96.63162466666665 for 34 rounds\n",
      "CV with max_depth=10, min_child_weight=11\n",
      "\tRMSE 96.570905 for 34 rounds\n",
      "CV with max_depth=10, min_child_weight=12\n",
      "\tRMSE 96.44156400000001 for 42 rounds\n",
      "CV with max_depth=10, min_child_weight=13\n",
      "\tRMSE 96.47787233333334 for 45 rounds\n",
      "CV with max_depth=10, min_child_weight=14\n",
      "\tRMSE 96.38595066666666 for 44 rounds\n",
      "CV with max_depth=11, min_child_weight=2\n",
      "\tRMSE 97.71009066666666 for 31 rounds\n",
      "CV with max_depth=11, min_child_weight=3\n",
      "\tRMSE 97.37831366666666 for 36 rounds\n",
      "CV with max_depth=11, min_child_weight=4\n",
      "\tRMSE 97.34250133333335 for 32 rounds\n",
      "CV with max_depth=11, min_child_weight=5\n",
      "\tRMSE 97.17877700000001 for 31 rounds\n",
      "CV with max_depth=11, min_child_weight=6\n",
      "\tRMSE 97.05298633333332 for 34 rounds\n",
      "CV with max_depth=11, min_child_weight=7\n",
      "\tRMSE 96.96618899999999 for 34 rounds\n",
      "CV with max_depth=11, min_child_weight=8\n",
      "\tRMSE 96.89039866666667 for 34 rounds\n",
      "CV with max_depth=11, min_child_weight=9\n",
      "\tRMSE 96.88314566666668 for 34 rounds\n",
      "CV with max_depth=11, min_child_weight=10\n",
      "\tRMSE 96.681699 for 34 rounds\n",
      "CV with max_depth=11, min_child_weight=11\n",
      "\tRMSE 96.65879566666668 for 39 rounds\n",
      "CV with max_depth=11, min_child_weight=12\n",
      "\tRMSE 96.59436799999999 for 42 rounds\n",
      "CV with max_depth=11, min_child_weight=13\n",
      "\tRMSE 96.523707 for 34 rounds\n",
      "CV with max_depth=11, min_child_weight=14\n",
      "\tRMSE 96.49411766666667 for 42 rounds\n",
      "CV with max_depth=12, min_child_weight=2\n",
      "\tRMSE 98.06729366666667 for 31 rounds\n",
      "CV with max_depth=12, min_child_weight=3\n",
      "\tRMSE 97.74169933333333 for 31 rounds\n",
      "CV with max_depth=12, min_child_weight=4\n",
      "\tRMSE 97.53965 for 34 rounds\n",
      "CV with max_depth=12, min_child_weight=5\n",
      "\tRMSE 97.40302533333333 for 34 rounds\n",
      "CV with max_depth=12, min_child_weight=6\n",
      "\tRMSE 97.20237733333333 for 35 rounds\n",
      "CV with max_depth=12, min_child_weight=7\n",
      "\tRMSE 97.04513033333335 for 34 rounds\n",
      "CV with max_depth=12, min_child_weight=8\n",
      "\tRMSE 96.93852 for 31 rounds\n",
      "CV with max_depth=12, min_child_weight=9\n",
      "\tRMSE 96.868851 for 39 rounds\n",
      "CV with max_depth=12, min_child_weight=10\n",
      "\tRMSE 96.83741500000001 for 34 rounds\n",
      "CV with max_depth=12, min_child_weight=11\n",
      "\tRMSE 96.71823099999999 for 39 rounds\n",
      "CV with max_depth=12, min_child_weight=12\n",
      "\tRMSE 96.57849366666666 for 35 rounds\n",
      "CV with max_depth=12, min_child_weight=13\n",
      "\tRMSE 96.49790166666668 for 39 rounds\n",
      "CV with max_depth=12, min_child_weight=14\n",
      "\tRMSE 96.53869366666667 for 42 rounds\n",
      "CV with max_depth=13, min_child_weight=2\n",
      "\tRMSE 98.126043 for 32 rounds\n",
      "CV with max_depth=13, min_child_weight=3\n",
      "\tRMSE 97.84732566666666 for 31 rounds\n",
      "CV with max_depth=13, min_child_weight=4\n",
      "\tRMSE 97.57589733333333 for 31 rounds\n",
      "CV with max_depth=13, min_child_weight=5\n",
      "\tRMSE 97.375908 for 34 rounds\n",
      "CV with max_depth=13, min_child_weight=6\n",
      "\tRMSE 97.16343166666667 for 34 rounds\n",
      "CV with max_depth=13, min_child_weight=7\n",
      "\tRMSE 97.00347666666666 for 34 rounds\n",
      "CV with max_depth=13, min_child_weight=8\n",
      "\tRMSE 96.92962633333333 for 34 rounds\n",
      "CV with max_depth=13, min_child_weight=9\n",
      "\tRMSE 96.95606733333334 for 35 rounds\n",
      "CV with max_depth=13, min_child_weight=10\n",
      "\tRMSE 96.86901866666666 for 34 rounds\n",
      "CV with max_depth=13, min_child_weight=11\n",
      "\tRMSE 96.632721 for 34 rounds\n",
      "CV with max_depth=13, min_child_weight=12\n",
      "\tRMSE 96.60999299999999 for 35 rounds\n",
      "CV with max_depth=13, min_child_weight=13\n",
      "\tRMSE 96.57598333333333 for 35 rounds\n",
      "CV with max_depth=13, min_child_weight=14\n",
      "\tRMSE 96.57437866666668 for 34 rounds\n",
      "CV with max_depth=14, min_child_weight=2\n",
      "\tRMSE 98.39666 for 32 rounds\n",
      "CV with max_depth=14, min_child_weight=3\n",
      "\tRMSE 97.91469333333333 for 31 rounds\n",
      "CV with max_depth=14, min_child_weight=4\n",
      "\tRMSE 97.66102866666665 for 31 rounds\n",
      "CV with max_depth=14, min_child_weight=5\n",
      "\tRMSE 97.55350766666668 for 32 rounds\n",
      "CV with max_depth=14, min_child_weight=6\n",
      "\tRMSE 97.291621 for 34 rounds\n",
      "CV with max_depth=14, min_child_weight=7\n",
      "\tRMSE 97.12810266666668 for 39 rounds\n",
      "CV with max_depth=14, min_child_weight=8\n",
      "\tRMSE 97.01656333333334 for 34 rounds\n",
      "CV with max_depth=14, min_child_weight=9\n",
      "\tRMSE 96.92880233333334 for 35 rounds\n",
      "CV with max_depth=14, min_child_weight=10\n",
      "\tRMSE 96.793134 for 34 rounds\n",
      "CV with max_depth=14, min_child_weight=11\n",
      "\tRMSE 96.69733166666667 for 34 rounds\n",
      "CV with max_depth=14, min_child_weight=12\n",
      "\tRMSE 96.642985 for 32 rounds\n",
      "CV with max_depth=14, min_child_weight=13\n",
      "\tRMSE 96.61746999999998 for 34 rounds\n",
      "CV with max_depth=14, min_child_weight=14\n",
      "\tRMSE 96.47728233333333 for 34 rounds\n",
      "Best params: 4, 14,RMSE: 95.992615\n",
      "Wall time: 3min\n"
     ]
    }
   ],
   "source": [
    "%%time\n",
    "\n",
    "#set the initial best params and RMSE\n",
    "min_rmse = float(\"Inf\")\n",
    "best_params = None\n",
    "for max_depth, min_child_weight in gridsearch_params:\n",
    "    print(\"CV with max_depth={}, min_child_weight={}\".format(\n",
    "                             max_depth,\n",
    "                             min_child_weight))\n",
    "    # Update our parameters\n",
    "    params['max_depth'] = max_depth\n",
    "    params['min_child_weight'] = min_child_weight\n",
    "    # Run CV\n",
    "    cv_results = xgb.cv(\n",
    "        params,\n",
    "        dtrain,\n",
    "        num_boost_round=num_boost_round,\n",
    "        seed=42,\n",
    "        nfold=3,\n",
    "        metrics={'rmse'},\n",
    "        early_stopping_rounds=10\n",
    "    )\n",
    "    # Update best RMSE\n",
    "    mean_rmse = cv_results['test-rmse-mean'].min()\n",
    "    boost_rounds = cv_results['test-rmse-mean'].argmin()\n",
    "    print(\"\\tRMSE {} for {} rounds\".format(mean_rmse, boost_rounds))\n",
    "    if mean_rmse < min_rmse:\n",
    "        min_rmse = mean_rmse\n",
    "        best_params = (max_depth,min_child_weight)\n",
    "print(\"Best params: {}, {},RMSE: {}\".format(best_params[0], best_params[1], min_rmse))"
   ]
  },
  {
   "cell_type": "code",
   "execution_count": 39,
   "metadata": {},
   "outputs": [],
   "source": [
    "#update the params\n",
    "params['max_depth'] = 4\n",
    "params['min_child_weight'] =14"
   ]
  },
  {
   "cell_type": "code",
   "execution_count": 40,
   "metadata": {},
   "outputs": [],
   "source": [
    "#set the range for subsample and colsample\n",
    "gridsearch_params = [\n",
    "    (subsample, colsample)\n",
    "    for subsample in [i/10. for i in range(5,10)]\n",
    "    for colsample in [i/10. for i in range(5,10)]\n",
    "]"
   ]
  },
  {
   "cell_type": "code",
   "execution_count": 41,
   "metadata": {},
   "outputs": [
    {
     "name": "stdout",
     "output_type": "stream",
     "text": [
      "CV with subsample=0.9, colsample=0.9\n",
      "\tRMSE 95.69102733333334 for 98 rounds\n",
      "CV with subsample=0.9, colsample=0.8\n",
      "\tRMSE 95.74845133333334 for 99 rounds\n",
      "CV with subsample=0.9, colsample=0.7\n",
      "\tRMSE 95.810951 for 97 rounds\n",
      "CV with subsample=0.9, colsample=0.6\n",
      "\tRMSE 95.83796666666666 for 99 rounds\n",
      "CV with subsample=0.9, colsample=0.5\n",
      "\tRMSE 95.87987766666667 for 99 rounds\n",
      "CV with subsample=0.8, colsample=0.9\n",
      "\tRMSE 95.70293933333333 for 99 rounds\n",
      "CV with subsample=0.8, colsample=0.8\n",
      "\tRMSE 95.74071733333334 for 99 rounds\n",
      "CV with subsample=0.8, colsample=0.7\n",
      "\tRMSE 95.73309833333333 for 99 rounds\n",
      "CV with subsample=0.8, colsample=0.6\n",
      "\tRMSE 95.82763933333332 for 97 rounds\n",
      "CV with subsample=0.8, colsample=0.5\n",
      "\tRMSE 95.90214300000001 for 99 rounds\n",
      "CV with subsample=0.7, colsample=0.9\n",
      "\tRMSE 95.71941866666667 for 77 rounds\n",
      "CV with subsample=0.7, colsample=0.8\n",
      "\tRMSE 95.705147 for 99 rounds\n",
      "CV with subsample=0.7, colsample=0.7\n",
      "\tRMSE 95.75454966666666 for 97 rounds\n",
      "CV with subsample=0.7, colsample=0.6\n",
      "\tRMSE 95.82101666666667 for 99 rounds\n",
      "CV with subsample=0.7, colsample=0.5\n",
      "\tRMSE 95.88219199999999 for 99 rounds\n",
      "CV with subsample=0.6, colsample=0.9\n",
      "\tRMSE 95.738556 for 66 rounds\n",
      "CV with subsample=0.6, colsample=0.8\n",
      "\tRMSE 95.78449266666667 for 67 rounds\n",
      "CV with subsample=0.6, colsample=0.7\n",
      "\tRMSE 95.81884500000001 for 96 rounds\n",
      "CV with subsample=0.6, colsample=0.6\n",
      "\tRMSE 95.82842733333332 for 98 rounds\n",
      "CV with subsample=0.6, colsample=0.5\n",
      "\tRMSE 95.87877399999998 for 99 rounds\n",
      "CV with subsample=0.5, colsample=0.9\n",
      "\tRMSE 95.75063066666667 for 79 rounds\n",
      "CV with subsample=0.5, colsample=0.8\n",
      "\tRMSE 95.70625833333334 for 98 rounds\n",
      "CV with subsample=0.5, colsample=0.7\n",
      "\tRMSE 95.835383 for 91 rounds\n",
      "CV with subsample=0.5, colsample=0.6\n",
      "\tRMSE 95.82307700000001 for 99 rounds\n",
      "CV with subsample=0.5, colsample=0.5\n",
      "\tRMSE 95.936826 for 99 rounds\n",
      "Best params: 0.9, 0.9, RMSE: 95.69102733333334\n",
      "Wall time: 39.1 s\n"
     ]
    }
   ],
   "source": [
    "%%time\n",
    "\n",
    "#set the initial best params and RMSE\n",
    "min_rmse = float(\"Inf\")\n",
    "best_params = None\n",
    "# We start by the largest values and go down to the smallest\n",
    "for subsample, colsample in reversed(gridsearch_params):\n",
    "    print(\"CV with subsample={}, colsample={}\".format(\n",
    "                             subsample,\n",
    "                             colsample))\n",
    "    # We update our parameters\n",
    "    params['subsample'] = subsample\n",
    "    params['colsample_bytree'] = colsample\n",
    "    # Run CV\n",
    "    cv_results = xgb.cv(\n",
    "        params,\n",
    "        dtrain,\n",
    "        num_boost_round=num_boost_round,\n",
    "        seed=42,\n",
    "        nfold=3,\n",
    "        metrics={'rmse'},\n",
    "        early_stopping_rounds=10\n",
    "    )\n",
    "    # Update best score\n",
    "    mean_rmse = cv_results['test-rmse-mean'].min()\n",
    "    boost_rounds = cv_results['test-rmse-mean'].argmin()\n",
    "    print(\"\\tRMSE {} for {} rounds\".format(mean_rmse, boost_rounds))\n",
    "    if mean_rmse < min_rmse:\n",
    "        min_rmse = mean_rmse\n",
    "        best_params = (subsample,colsample)\n",
    "print(\"Best params: {}, {}, RMSE: {}\".format(best_params[0], best_params[1], min_rmse))"
   ]
  },
  {
   "cell_type": "code",
   "execution_count": 42,
   "metadata": {},
   "outputs": [],
   "source": [
    "#update the params\n",
    "params['subsample'] = 0.9\n",
    "params['colsample_bytree'] = 0.9"
   ]
  },
  {
   "cell_type": "code",
   "execution_count": 43,
   "metadata": {},
   "outputs": [
    {
     "name": "stdout",
     "output_type": "stream",
     "text": [
      "CV with eta=0.3\n",
      "\tRMSE 95.796987 for 22 rounds\n",
      "CV with eta=0.2\n",
      "\tRMSE 95.82526133333334 for 63 rounds\n",
      "CV with eta=0.1\n",
      "\tRMSE 95.69102733333334 for 98 rounds\n",
      "CV with eta=0.05\n",
      "\tRMSE 95.85292566666665 for 99 rounds\n",
      "CV with eta=0.01\n",
      "\tRMSE 112.20454166666667 for 99 rounds\n",
      "CV with eta=0.02\n",
      "\tRMSE 98.604243 for 99 rounds\n",
      "CV with eta=0.03\n",
      "\tRMSE 96.44154099999999 for 99 rounds\n",
      "Best params: 0.1, RMSE: 95.69102733333334\n",
      "Wall time: 9.36 s\n"
     ]
    }
   ],
   "source": [
    "%%time\n",
    "\n",
    "#set the initial best params and RMSE\n",
    "min_rmse = float(\"Inf\")\n",
    "best_params = None\n",
    "for eta in [.3, .2, .1, .05, .01, .02, .03]:\n",
    "    print(\"CV with eta={}\".format(eta))\n",
    "    # We update our parameters\n",
    "    params['eta'] = eta\n",
    "    # Run and CV\n",
    "    cv_results = xgb.cv(\n",
    "        params,\n",
    "        dtrain,\n",
    "        num_boost_round=num_boost_round,\n",
    "        seed=42,\n",
    "        nfold=3,\n",
    "        metrics={'rmse'},\n",
    "        early_stopping_rounds=10\n",
    "    )\n",
    "    # Update best score\n",
    "    mean_rmse = cv_results['test-rmse-mean'].min()\n",
    "    boost_rounds = cv_results['test-rmse-mean'].argmin()\n",
    "    print(\"\\tRMSE {} for {} rounds\".format(mean_rmse, boost_rounds))\n",
    "    if mean_rmse < min_rmse:\n",
    "        min_rmse = mean_rmse\n",
    "        best_params = eta\n",
    "print(\"Best params: {}, RMSE: {}\".format(best_params, min_rmse))"
   ]
  },
  {
   "cell_type": "code",
   "execution_count": 78,
   "metadata": {},
   "outputs": [],
   "source": [
    "#update the params\n",
    "params[\"eta\"] = 0.1"
   ]
  },
  {
   "cell_type": "code",
   "execution_count": 79,
   "metadata": {},
   "outputs": [
    {
     "data": {
      "text/plain": [
       "{'max_depth': 4,\n",
       " 'min_child_weight': 14,\n",
       " 'eta': 0.1,\n",
       " 'subsample': 0.9,\n",
       " 'colsample_bytree': 0.9,\n",
       " 'objective': 'reg:squarederror',\n",
       " 'eval_metric': 'rmse'}"
      ]
     },
     "execution_count": 79,
     "metadata": {},
     "output_type": "execute_result"
    }
   ],
   "source": [
    "#check the params\n",
    "params"
   ]
  },
  {
   "cell_type": "code",
   "execution_count": 80,
   "metadata": {
    "scrolled": true
   },
   "outputs": [
    {
     "name": "stdout",
     "output_type": "stream",
     "text": [
      "[0]\tTest-rmse:172.35135\n",
      "[1]\tTest-rmse:161.12834\n",
      "[2]\tTest-rmse:151.33762\n",
      "[3]\tTest-rmse:142.91165\n",
      "[4]\tTest-rmse:135.65260\n",
      "[5]\tTest-rmse:129.49663\n",
      "[6]\tTest-rmse:124.33415\n",
      "[7]\tTest-rmse:119.85471\n",
      "[8]\tTest-rmse:116.13865\n",
      "[9]\tTest-rmse:112.92520\n",
      "[10]\tTest-rmse:110.31525\n",
      "[11]\tTest-rmse:108.07820\n",
      "[12]\tTest-rmse:106.18327\n",
      "[13]\tTest-rmse:104.65745\n",
      "[14]\tTest-rmse:103.38193\n",
      "[15]\tTest-rmse:102.35328\n",
      "[16]\tTest-rmse:101.45240\n",
      "[17]\tTest-rmse:100.72241\n",
      "[18]\tTest-rmse:100.13258\n",
      "[19]\tTest-rmse:99.62241\n",
      "[20]\tTest-rmse:99.19840\n",
      "[21]\tTest-rmse:98.85449\n",
      "[22]\tTest-rmse:98.56890\n",
      "[23]\tTest-rmse:98.31708\n",
      "[24]\tTest-rmse:98.09794\n",
      "[25]\tTest-rmse:97.93542\n",
      "[26]\tTest-rmse:97.75916\n",
      "[27]\tTest-rmse:97.62056\n",
      "[28]\tTest-rmse:97.50162\n",
      "[29]\tTest-rmse:97.40720\n",
      "[30]\tTest-rmse:97.33394\n",
      "[31]\tTest-rmse:97.25136\n",
      "[32]\tTest-rmse:97.17226\n",
      "[33]\tTest-rmse:97.11078\n",
      "[34]\tTest-rmse:97.06561\n",
      "[35]\tTest-rmse:97.03047\n",
      "[36]\tTest-rmse:96.99729\n",
      "[37]\tTest-rmse:96.95756\n",
      "[38]\tTest-rmse:96.93839\n",
      "[39]\tTest-rmse:96.90937\n",
      "[40]\tTest-rmse:96.89370\n",
      "[41]\tTest-rmse:96.86654\n",
      "[42]\tTest-rmse:96.84802\n",
      "[43]\tTest-rmse:96.82991\n",
      "[44]\tTest-rmse:96.81345\n",
      "[45]\tTest-rmse:96.80279\n",
      "[46]\tTest-rmse:96.78863\n",
      "[47]\tTest-rmse:96.76381\n",
      "[48]\tTest-rmse:96.74992\n",
      "[49]\tTest-rmse:96.73749\n",
      "[50]\tTest-rmse:96.71873\n",
      "[51]\tTest-rmse:96.69185\n",
      "[52]\tTest-rmse:96.68941\n",
      "[53]\tTest-rmse:96.67920\n",
      "[54]\tTest-rmse:96.65882\n",
      "[55]\tTest-rmse:96.65610\n",
      "[56]\tTest-rmse:96.64883\n",
      "[57]\tTest-rmse:96.63715\n",
      "[58]\tTest-rmse:96.62718\n",
      "[59]\tTest-rmse:96.61342\n",
      "[60]\tTest-rmse:96.61437\n",
      "[61]\tTest-rmse:96.59913\n",
      "[62]\tTest-rmse:96.59248\n",
      "[63]\tTest-rmse:96.57935\n",
      "[64]\tTest-rmse:96.57526\n",
      "[65]\tTest-rmse:96.57315\n",
      "[66]\tTest-rmse:96.57407\n",
      "[67]\tTest-rmse:96.57230\n",
      "[68]\tTest-rmse:96.57449\n",
      "[69]\tTest-rmse:96.57000\n",
      "[70]\tTest-rmse:96.56380\n",
      "[71]\tTest-rmse:96.56046\n",
      "[72]\tTest-rmse:96.55768\n",
      "[73]\tTest-rmse:96.55151\n",
      "[74]\tTest-rmse:96.54430\n",
      "[75]\tTest-rmse:96.53913\n",
      "[76]\tTest-rmse:96.54102\n",
      "[77]\tTest-rmse:96.53489\n",
      "[78]\tTest-rmse:96.53947\n",
      "[79]\tTest-rmse:96.53463\n",
      "[80]\tTest-rmse:96.53256\n",
      "[81]\tTest-rmse:96.53265\n",
      "[82]\tTest-rmse:96.53751\n",
      "[83]\tTest-rmse:96.54120\n",
      "[84]\tTest-rmse:96.54303\n",
      "[85]\tTest-rmse:96.53832\n",
      "[86]\tTest-rmse:96.53034\n",
      "[87]\tTest-rmse:96.52889\n",
      "[88]\tTest-rmse:96.52264\n",
      "[89]\tTest-rmse:96.52056\n",
      "[90]\tTest-rmse:96.51856\n",
      "[91]\tTest-rmse:96.51806\n",
      "[92]\tTest-rmse:96.51519\n",
      "[93]\tTest-rmse:96.51413\n",
      "[94]\tTest-rmse:96.50966\n",
      "[95]\tTest-rmse:96.51430\n",
      "[96]\tTest-rmse:96.51610\n",
      "[97]\tTest-rmse:96.52396\n",
      "[98]\tTest-rmse:96.50972\n",
      "[99]\tTest-rmse:96.50737\n"
     ]
    }
   ],
   "source": [
    "model = xgb.train(\n",
    "    params,\n",
    "    dtrain,\n",
    "    num_boost_round=num_boost_round,\n",
    "    evals=[(dtest, \"Test\")],\n",
    "    early_stopping_rounds=10\n",
    ")"
   ]
  },
  {
   "cell_type": "code",
   "execution_count": 81,
   "metadata": {},
   "outputs": [
    {
     "name": "stdout",
     "output_type": "stream",
     "text": [
      "Best RMSE: 96.51 in 100 rounds\n"
     ]
    }
   ],
   "source": [
    "print(\"Best RMSE: {:.2f} in {} rounds\".format(model.best_score, model.best_iteration+1))"
   ]
  },
  {
   "cell_type": "code",
   "execution_count": 82,
   "metadata": {},
   "outputs": [
    {
     "name": "stdout",
     "output_type": "stream",
     "text": [
      "[0]\tTest-rmse:172.35135\n",
      "[1]\tTest-rmse:161.12834\n",
      "[2]\tTest-rmse:151.33762\n",
      "[3]\tTest-rmse:142.91165\n",
      "[4]\tTest-rmse:135.65260\n",
      "[5]\tTest-rmse:129.49663\n",
      "[6]\tTest-rmse:124.33415\n",
      "[7]\tTest-rmse:119.85471\n",
      "[8]\tTest-rmse:116.13865\n",
      "[9]\tTest-rmse:112.92520\n",
      "[10]\tTest-rmse:110.31525\n",
      "[11]\tTest-rmse:108.07820\n",
      "[12]\tTest-rmse:106.18327\n",
      "[13]\tTest-rmse:104.65745\n",
      "[14]\tTest-rmse:103.38193\n",
      "[15]\tTest-rmse:102.35328\n",
      "[16]\tTest-rmse:101.45240\n",
      "[17]\tTest-rmse:100.72241\n",
      "[18]\tTest-rmse:100.13258\n",
      "[19]\tTest-rmse:99.62241\n",
      "[20]\tTest-rmse:99.19840\n",
      "[21]\tTest-rmse:98.85449\n",
      "[22]\tTest-rmse:98.56890\n",
      "[23]\tTest-rmse:98.31708\n",
      "[24]\tTest-rmse:98.09794\n",
      "[25]\tTest-rmse:97.93542\n",
      "[26]\tTest-rmse:97.75916\n",
      "[27]\tTest-rmse:97.62056\n",
      "[28]\tTest-rmse:97.50162\n",
      "[29]\tTest-rmse:97.40720\n",
      "[30]\tTest-rmse:97.33394\n",
      "[31]\tTest-rmse:97.25136\n",
      "[32]\tTest-rmse:97.17226\n",
      "[33]\tTest-rmse:97.11078\n",
      "[34]\tTest-rmse:97.06561\n",
      "[35]\tTest-rmse:97.03047\n",
      "[36]\tTest-rmse:96.99729\n",
      "[37]\tTest-rmse:96.95756\n",
      "[38]\tTest-rmse:96.93839\n",
      "[39]\tTest-rmse:96.90937\n",
      "[40]\tTest-rmse:96.89370\n",
      "[41]\tTest-rmse:96.86654\n",
      "[42]\tTest-rmse:96.84802\n",
      "[43]\tTest-rmse:96.82991\n",
      "[44]\tTest-rmse:96.81345\n",
      "[45]\tTest-rmse:96.80279\n",
      "[46]\tTest-rmse:96.78863\n",
      "[47]\tTest-rmse:96.76381\n",
      "[48]\tTest-rmse:96.74992\n",
      "[49]\tTest-rmse:96.73749\n",
      "[50]\tTest-rmse:96.71873\n",
      "[51]\tTest-rmse:96.69185\n",
      "[52]\tTest-rmse:96.68941\n",
      "[53]\tTest-rmse:96.67920\n",
      "[54]\tTest-rmse:96.65882\n",
      "[55]\tTest-rmse:96.65610\n",
      "[56]\tTest-rmse:96.64883\n",
      "[57]\tTest-rmse:96.63715\n",
      "[58]\tTest-rmse:96.62718\n",
      "[59]\tTest-rmse:96.61342\n",
      "[60]\tTest-rmse:96.61437\n",
      "[61]\tTest-rmse:96.59913\n",
      "[62]\tTest-rmse:96.59248\n",
      "[63]\tTest-rmse:96.57935\n",
      "[64]\tTest-rmse:96.57526\n",
      "[65]\tTest-rmse:96.57315\n",
      "[66]\tTest-rmse:96.57407\n",
      "[67]\tTest-rmse:96.57230\n",
      "[68]\tTest-rmse:96.57449\n",
      "[69]\tTest-rmse:96.57000\n",
      "[70]\tTest-rmse:96.56380\n",
      "[71]\tTest-rmse:96.56046\n",
      "[72]\tTest-rmse:96.55768\n",
      "[73]\tTest-rmse:96.55151\n",
      "[74]\tTest-rmse:96.54430\n",
      "[75]\tTest-rmse:96.53913\n",
      "[76]\tTest-rmse:96.54102\n",
      "[77]\tTest-rmse:96.53489\n",
      "[78]\tTest-rmse:96.53947\n",
      "[79]\tTest-rmse:96.53463\n",
      "[80]\tTest-rmse:96.53256\n",
      "[81]\tTest-rmse:96.53265\n",
      "[82]\tTest-rmse:96.53751\n",
      "[83]\tTest-rmse:96.54120\n",
      "[84]\tTest-rmse:96.54303\n",
      "[85]\tTest-rmse:96.53832\n",
      "[86]\tTest-rmse:96.53034\n",
      "[87]\tTest-rmse:96.52889\n",
      "[88]\tTest-rmse:96.52264\n",
      "[89]\tTest-rmse:96.52056\n",
      "[90]\tTest-rmse:96.51856\n",
      "[91]\tTest-rmse:96.51806\n",
      "[92]\tTest-rmse:96.51519\n",
      "[93]\tTest-rmse:96.51413\n",
      "[94]\tTest-rmse:96.50966\n",
      "[95]\tTest-rmse:96.51430\n",
      "[96]\tTest-rmse:96.51610\n",
      "[97]\tTest-rmse:96.52396\n",
      "[98]\tTest-rmse:96.50972\n",
      "[99]\tTest-rmse:96.50737\n"
     ]
    }
   ],
   "source": [
    "num_boost_round = model.best_iteration + 1\n",
    "best_model = xgb.train(\n",
    "    params,\n",
    "    dtrain,\n",
    "    num_boost_round=num_boost_round,\n",
    "    evals=[(dtest, \"Test\")]\n",
    ")"
   ]
  },
  {
   "cell_type": "code",
   "execution_count": 83,
   "metadata": {},
   "outputs": [
    {
     "data": {
      "text/plain": [
       "96.50739186740037"
      ]
     },
     "execution_count": 83,
     "metadata": {},
     "output_type": "execute_result"
    }
   ],
   "source": [
    "np.sqrt(mean_squared_error(best_model.predict(dtest), y_test))"
   ]
  },
  {
   "cell_type": "code",
   "execution_count": 86,
   "metadata": {},
   "outputs": [],
   "source": [
    "best_model.save_model(\"my_model.model\")"
   ]
  },
  {
   "cell_type": "code",
   "execution_count": 87,
   "metadata": {},
   "outputs": [
    {
     "name": "stdout",
     "output_type": "stream",
     "text": [
      "true = [275 500 275  75 450]\n",
      "pred = [172.94968 194.13272 183.92776 153.39665 171.57227]\n"
     ]
    }
   ],
   "source": [
    "loaded_model = xgb.Booster()\n",
    "loaded_model.load_model(\"my_model.model\")\n",
    "\n",
    "y_test_pred =loaded_model.predict(dtest)\n",
    "print(f'true = {np.array(y_test)[:5]}')\n",
    "print(f'pred = {y_test_pred[:5]}')\n"
   ]
  },
  {
   "cell_type": "code",
   "execution_count": 88,
   "metadata": {},
   "outputs": [
    {
     "name": "stdout",
     "output_type": "stream",
     "text": [
      "0.3441985469494614\n"
     ]
    }
   ],
   "source": [
    "from sklearn.metrics import r2_score\n",
    "\n",
    "print(r2_score(y_test,y_test_pred))"
   ]
  },
  {
   "cell_type": "code",
   "execution_count": 89,
   "metadata": {},
   "outputs": [
    {
     "data": {
      "text/plain": [
       "<AxesSubplot:title={'center':'Feature importance'}, xlabel='F score', ylabel='Features'>"
      ]
     },
     "execution_count": 89,
     "metadata": {},
     "output_type": "execute_result"
    },
    {
     "data": {
      "image/png": "[encoded data removed]",
      "text/plain": [
       "<Figure size 432x288 with 1 Axes>"
      ]
     },
     "metadata": {
      "needs_background": "light"
     },
     "output_type": "display_data"
    }
   ],
   "source": [
    "from xgboost import plot_importance, plot_tree\n",
    "plot_importance(loaded_model,ax=plt.gca())"
   ]
  },
  {
   "cell_type": "code",
   "execution_count": 90,
   "metadata": {},
   "outputs": [
    {
     "data": {
      "text/plain": [
       "<matplotlib.legend.Legend at 0x1ffb0cc1160>"
      ]
     },
     "execution_count": 90,
     "metadata": {},
     "output_type": "execute_result"
    },
    {
     "data": {
      "image/png": "[encoded data removed]",
      "text/plain": [
       "<Figure size 864x432 with 1 Axes>"
      ]
     },
     "metadata": {
      "needs_background": "light"
     },
     "output_type": "display_data"
    }
   ],
   "source": [
    "fig1 = plt.figure(figsize=(12, 6))\n",
    "\n",
    "sns.histplot( y_test, color=\"blue\", label=\"original\", kde= True)\n",
    "sns.histplot(y_test_pred, color=\"red\", label=\"predicted\", kde=True)\n",
    "\n",
    "plt.xlabel(\"Price\")\n",
    "plt.legend()\n",
    "\n"
   ]
  },
  {
   "cell_type": "code",
   "execution_count": 94,
   "metadata": {},
   "outputs": [],
   "source": [
    "fig1.savefig('Graphs/XGBoost_Comparision.png')"
   ]
  },
  {
   "cell_type": "code",
   "execution_count": 91,
   "metadata": {},
   "outputs": [],
   "source": [
    "y_train_pred = loaded_model.predict(dtrain)\n",
    "\n",
    "test = pd.DataFrame({\"test prediction\": y_test_pred, \"test\": y_test})\n",
    "train =pd.DataFrame({\"train prediction\": y_train_pred, \"train\": y_train})"
   ]
  },
  {
   "cell_type": "code",
   "execution_count": 95,
   "metadata": {},
   "outputs": [
    {
     "data": {
      "image/png": "[encoded data removed]",
      "text/plain": [
       "<Figure size 864x432 with 1 Axes>"
      ]
     },
     "metadata": {
      "needs_background": "light"
     },
     "output_type": "display_data"
    }
   ],
   "source": [
    "fig2 = plt.figure(figsize=(12, 6))\n",
    "\n",
    "sns.scatterplot(data = test, x=test[\"test prediction\"], y=test[\"test prediction\"] - test[\"test\"], label=\"Testing Data\")\n",
    "sns.scatterplot(data = train, x=train[\"train prediction\"], y=train[\"train prediction\"] - train[\"train\"], label=\"Training Data\")\n",
    "\n",
    "\n",
    "#plt.legend()\n",
    "plt.hlines(y=0, xmin=test[\"test\"].min(), xmax=test[\"test\"].max())\n",
    "plt.xlim([0,450])\n",
    "\n",
    "plt.title(\"Residual Plot\")\n",
    "plt.show()"
   ]
  },
  {
   "cell_type": "code",
   "execution_count": 96,
   "metadata": {},
   "outputs": [],
   "source": [
    "fig2.savefig('Graphs/XGBoost_Comparision2.png')"
   ]
  },
  {
   "cell_type": "code",
   "execution_count": null,
   "metadata": {},
   "outputs": [],
   "source": [
    "import joblib\n",
    "file = \"xbgmodel.h5\"\n",
    "joblib.dump(best_model, file)"
   ]
  }
 ],
 "metadata": {
  "kernelspec": {
   "display_name": "Python [conda env:PythonAdv]",
   "language": "python",
   "name": "conda-env-PythonAdv-py"
  },
  "language_info": {
   "codemirror_mode": {
    "name": "ipython",
    "version": 3
   },
   "file_extension": ".py",
   "mimetype": "text/x-python",
   "name": "python",
   "nbconvert_exporter": "python",
   "pygments_lexer": "ipython3",
   "version": "3.6.12"
  }
 },
 "nbformat": 4,
 "nbformat_minor": 4
}
